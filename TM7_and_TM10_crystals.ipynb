{
 "cells": [
  {
   "cell_type": "code",
   "execution_count": 1,
   "id": "7f61635e",
   "metadata": {},
   "outputs": [],
   "source": [
    "import numpy as np\n",
    "import MDAnalysis as mda\n",
    "import matplotlib.pyplot as plt\n",
    "from numpy.linalg import norm"
   ]
  },
  {
   "cell_type": "code",
   "execution_count": 2,
   "id": "7f1bb7b8",
   "metadata": {},
   "outputs": [],
   "source": [
    "def theta_of_angle(u, s1, s2, s3):\n",
    "    A = u.select_atoms(s1).center_of_geometry()\n",
    "    B = u.select_atoms(s2).center_of_geometry()\n",
    "    C = u.select_atoms(s3).center_of_geometry()\n",
    "\n",
    "    BA = A - B\n",
    "    BC = C - B\n",
    "    theta = np.arccos(np.dot(BA, BC)/(norm(BA)*norm(BC)))\n",
    "    return np.rad2deg(theta)"
   ]
  },
  {
   "cell_type": "code",
   "execution_count": 17,
   "id": "55356aa9",
   "metadata": {},
   "outputs": [
    {
     "data": {
      "text/plain": [
       "<matplotlib.collections.PathCollection at 0x7f96929a4550>"
      ]
     },
     "execution_count": 17,
     "metadata": {},
     "output_type": "execute_result"
    },
    {
     "data": {
      "image/png": "[encoded data removed]",
      "text/plain": [
       "<Figure size 432x288 with 1 Axes>"
      ]
     },
     "metadata": {
      "needs_background": "light"
     },
     "output_type": "display_data"
    }
   ],
   "source": [
    "#these = [292, 297, 306]\n",
    "\n",
    "#        [[5C65 G284 F289 D298],\n",
    "#         [4ZW9 G285 Y290 K297],\n",
    "#         [6RW3 E323 N316 G309],\n",
    "#         [4JA3 V303 L297 G292], (T306 instead of V303 when not crystals)\n",
    "#         [4JA4 V303 L297 G292]]\n",
    "\n",
    "these = np.asarray([[284, 289, 298],\n",
    "         [284, 289, 297],\n",
    "         [309, 314, 323],\n",
    "         [292, 297, 303],\n",
    "         [292, 297, 303]])\n",
    "\n",
    "\n",
    "theta_u7 = []\n",
    "count = 0\n",
    "for ap in ['5c65','4zw9','6rw3','4ja3','4ja4']:\n",
    "    u = mda.Universe('/Users/claudia/Downloads/%s.pdb' %ap, \\\n",
    "            '/Users/claudia/Downloads/%s.pdb' %ap)\n",
    "    for ts in u.trajectory:\n",
    "        theta = theta_of_angle(u, s1 = 'resid %s and backbone' %these[count,0], \n",
    "                               s2 = 'resid %s and backbone' %these[count,1], \n",
    "                               s3 = 'resid %s and backbone' %these[count,2])\n",
    "        theta_u7.append(theta)\n",
    "    count = count + 1 \n",
    "    \n",
    "plt.scatter(range(5),theta_u7)\n"
   ]
  },
  {
   "cell_type": "code",
   "execution_count": 19,
   "id": "1eb853b4",
   "metadata": {},
   "outputs": [
    {
     "data": {
      "text/plain": [
       "([<matplotlib.axis.XTick at 0x7f9692786b80>,\n",
       "  <matplotlib.axis.XTick at 0x7f96927863a0>,\n",
       "  <matplotlib.axis.XTick at 0x7f96925cba30>,\n",
       "  <matplotlib.axis.XTick at 0x7f9692087af0>,\n",
       "  <matplotlib.axis.XTick at 0x7f9692071040>],\n",
       " [Text(0, 0, '5c65'),\n",
       "  Text(1, 0, '4zw9'),\n",
       "  Text(2, 0, '6rw3'),\n",
       "  Text(3, 0, '4ja3'),\n",
       "  Text(4, 0, '4ja4')])"
      ]
     },
     "execution_count": 19,
     "metadata": {},
     "output_type": "execute_result"
    },
    {
     "data": {
      "image/png": "[encoded data removed]",
      "text/plain": [
       "<Figure size 432x288 with 1 Axes>"
      ]
     },
     "metadata": {
      "needs_background": "light"
     },
     "output_type": "display_data"
    }
   ],
   "source": [
    "plt.scatter(range(5),theta_u7)\n",
    "\n",
    "plt.xticks(range(5),['5c65','4zw9','6rw3','4ja3','4ja4'])"
   ]
  },
  {
   "cell_type": "code",
   "execution_count": 21,
   "id": "d6a8c22e",
   "metadata": {},
   "outputs": [
    {
     "name": "stderr",
     "output_type": "stream",
     "text": [
      "/Users/claudia/miniconda3/lib/python3.8/site-packages/MDAnalysis/topology/guessers.py:80: UserWarning: Failed to guess the mass for the following atom types: CD\n",
      "  warnings.warn(\"Failed to guess the mass for the following atom types: {}\".format(atom_type))\n",
      "/Users/claudia/miniconda3/lib/python3.8/site-packages/MDAnalysis/topology/guessers.py:80: UserWarning: Failed to guess the mass for the following atom types: LU\n",
      "  warnings.warn(\"Failed to guess the mass for the following atom types: {}\".format(atom_type))\n"
     ]
    }
   ],
   "source": [
    "#these = [412, 425, 437]\n",
    "\n",
    "these = np.asarray([[401,412,425],\n",
    "         [401,412,425], \n",
    "         [426, 438, 450],\n",
    "         [407, 418, 431],\n",
    "         [407, 418, 431]])\n",
    "\n",
    "theta_u10 = []\n",
    "count = 0\n",
    "for ap in ['5c65','4zw9','6rw3','4ja3','4ja4']:\n",
    "    u = mda.Universe('/Users/claudia/Downloads/%s.pdb' %ap, \\\n",
    "            '/Users/claudia/Downloads/%s.pdb' %ap)\n",
    "    for ts in u.trajectory:\n",
    "        theta = theta_of_angle(u, s1 = 'resid %s  and backbone' %these[count,0], \n",
    "                               s2 = 'resid %s  and backbone' %these[count,1], \n",
    "                               s3 = 'resid %s  and backbone' %these[count,2])\n",
    "        theta_u10.append(theta)\n"
   ]
  },
  {
   "cell_type": "code",
   "execution_count": 23,
   "id": "8c16fad4",
   "metadata": {},
   "outputs": [
    {
     "data": {
      "text/plain": [
       "([<matplotlib.axis.XTick at 0x7f96930e0730>,\n",
       "  <matplotlib.axis.XTick at 0x7f96930e06d0>,\n",
       "  <matplotlib.axis.XTick at 0x7f9692bf49d0>,\n",
       "  <matplotlib.axis.XTick at 0x7f969305fe20>,\n",
       "  <matplotlib.axis.XTick at 0x7f969305f400>],\n",
       " [Text(0, 0, '5c65'),\n",
       "  Text(1, 0, '4zw9'),\n",
       "  Text(2, 0, '6rw3'),\n",
       "  Text(3, 0, '4ja3'),\n",
       "  Text(4, 0, '4ja4')])"
      ]
     },
     "execution_count": 23,
     "metadata": {},
     "output_type": "execute_result"
    },
    {
     "data": {
      "image/png": "[encoded data removed]",
      "text/plain": [
       "<Figure size 432x288 with 1 Axes>"
      ]
     },
     "metadata": {
      "needs_background": "light"
     },
     "output_type": "display_data"
    }
   ],
   "source": [
    "plt.scatter(range(5),theta_u10)\n",
    "\n",
    "plt.xticks(range(5),['5c65','4zw9','6rw3','4ja3','4ja4'])"
   ]
  },
  {
   "cell_type": "code",
   "execution_count": null,
   "id": "00927a4e",
   "metadata": {},
   "outputs": [],
   "source": []
  }
 ],
 "metadata": {
  "kernelspec": {
   "display_name": "Python 3",
   "language": "python",
   "name": "python3"
  },
  "language_info": {
   "codemirror_mode": {
    "name": "ipython",
    "version": 3
   },
   "file_extension": ".py",
   "mimetype": "text/x-python",
   "name": "python",
   "nbconvert_exporter": "python",
   "pygments_lexer": "ipython3",
   "version": "3.8.5"
  }
 },
 "nbformat": 4,
 "nbformat_minor": 5
}
